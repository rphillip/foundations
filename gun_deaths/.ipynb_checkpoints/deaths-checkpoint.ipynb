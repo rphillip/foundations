{
 "cells": [
  {
   "cell_type": "markdown",
   "metadata": {},
   "source": [
    "## US Gun Deaths Data Set\n",
    "\n",
    "[Original article by FiveThirtyEight about Guns](http://fivethirtyeight.com/features/gun-deaths/)\n",
    "\n",
    "The data set contains cleaned gun-death data from the CDC for 2012-2014."
   ]
  },
  {
   "cell_type": "markdown",
   "metadata": {},
   "source": [
    "### Assignment\n",
    "\n",
    "- Import the csv\n",
    "- Read it into a list\n",
    "- Preview the first 5 entries"
   ]
  },
  {
   "cell_type": "code",
   "execution_count": 28,
   "metadata": {
    "collapsed": false
   },
   "outputs": [
    {
     "name": "stdout",
     "output_type": "stream",
     "text": [
      "[['', 'year', 'month', 'intent', 'police', 'sex', 'age', 'race', 'hispanic', 'place', 'education'], ['1', '2012', '01', 'Suicide', '0', 'M', '34', 'Asian/Pacific Islander', '100', 'Home', '4'], ['2', '2012', '01', 'Suicide', '0', 'F', '21', 'White', '100', 'Street', '3'], ['3', '2012', '01', 'Suicide', '0', 'M', '60', 'White', '100', 'Other specified', '4'], ['4', '2012', '02', 'Suicide', '0', 'M', '64', 'White', '100', 'Home', '4']]\n"
     ]
    }
   ],
   "source": [
    "import csv\n",
    "with open(\"guns.csv\",'r') as csvfile:\n",
    "    reader = csv.reader(csvfile)\n",
    "    data=list(reader)\n",
    "    #convert to list of lists\n",
    "print(data[:5])"
   ]
  },
  {
   "cell_type": "markdown",
   "metadata": {},
   "source": [
    "### Assignment\n",
    "\n",
    "- Remove the header row from the list of lists\n",
    "- Save it to a separate list"
   ]
  },
  {
   "cell_type": "code",
   "execution_count": 29,
   "metadata": {
    "collapsed": false
   },
   "outputs": [],
   "source": [
    "header = data[:1]\n",
    "data = data[1:]\n",
    "\n"
   ]
  },
  {
   "cell_type": "markdown",
   "metadata": {},
   "source": [
    "### Assignment\n",
    "\n",
    "- Count the number of gun deaths by year\n",
    "    - It may help to do a list comprehension to get the years\n",
    "    - Iterate over the years with a dictionary to keep count\n",
    "    \n",
    "    "
   ]
  },
  {
   "cell_type": "code",
   "execution_count": 30,
   "metadata": {
    "collapsed": false
   },
   "outputs": [
    {
     "data": {
      "text/plain": [
       "{'2012': 33562, '2013': 33635, '2014': 33598}"
      ]
     },
     "execution_count": 30,
     "metadata": {},
     "output_type": "execute_result"
    }
   ],
   "source": [
    "total_year = {}\n",
    "for row in data:\n",
    "    if row[1] in total_year:\n",
    "            total_year[row[1]] +=1\n",
    "    else:\n",
    "        total_year[row[1]] = 0\n",
    "total_year"
   ]
  },
  {
   "cell_type": "markdown",
   "metadata": {},
   "source": [
    "### Assignment\n",
    "\n",
    "- Import the datetime library\n",
    "- Create a new list called \"dates\" with values from the data (set all the day values to 1)    \n",
    "- Count they number of gun deaths by month and year\n",
    "\n"
   ]
  },
  {
   "cell_type": "code",
   "execution_count": 34,
   "metadata": {
    "collapsed": false
   },
   "outputs": [
    {
     "data": {
      "text/plain": [
       "{datetime.datetime(2012, 1, 1, 0, 0): 2757,\n",
       " datetime.datetime(2012, 2, 1, 0, 0): 2356,\n",
       " datetime.datetime(2012, 3, 1, 0, 0): 2742,\n",
       " datetime.datetime(2012, 4, 1, 0, 0): 2794,\n",
       " datetime.datetime(2012, 5, 1, 0, 0): 2998,\n",
       " datetime.datetime(2012, 6, 1, 0, 0): 2825,\n",
       " datetime.datetime(2012, 7, 1, 0, 0): 3025,\n",
       " datetime.datetime(2012, 8, 1, 0, 0): 2953,\n",
       " datetime.datetime(2012, 9, 1, 0, 0): 2851,\n",
       " datetime.datetime(2012, 10, 1, 0, 0): 2732,\n",
       " datetime.datetime(2012, 11, 1, 0, 0): 2728,\n",
       " datetime.datetime(2012, 12, 1, 0, 0): 2790,\n",
       " datetime.datetime(2013, 1, 1, 0, 0): 2863,\n",
       " datetime.datetime(2013, 2, 1, 0, 0): 2374,\n",
       " datetime.datetime(2013, 3, 1, 0, 0): 2861,\n",
       " datetime.datetime(2013, 4, 1, 0, 0): 2797,\n",
       " datetime.datetime(2013, 5, 1, 0, 0): 2805,\n",
       " datetime.datetime(2013, 6, 1, 0, 0): 2919,\n",
       " datetime.datetime(2013, 7, 1, 0, 0): 3078,\n",
       " datetime.datetime(2013, 8, 1, 0, 0): 2858,\n",
       " datetime.datetime(2013, 9, 1, 0, 0): 2741,\n",
       " datetime.datetime(2013, 10, 1, 0, 0): 2807,\n",
       " datetime.datetime(2013, 11, 1, 0, 0): 2757,\n",
       " datetime.datetime(2013, 12, 1, 0, 0): 2764,\n",
       " datetime.datetime(2014, 1, 1, 0, 0): 2650,\n",
       " datetime.datetime(2014, 2, 1, 0, 0): 2360,\n",
       " datetime.datetime(2014, 3, 1, 0, 0): 2683,\n",
       " datetime.datetime(2014, 4, 1, 0, 0): 2861,\n",
       " datetime.datetime(2014, 5, 1, 0, 0): 2863,\n",
       " datetime.datetime(2014, 6, 1, 0, 0): 2930,\n",
       " datetime.datetime(2014, 7, 1, 0, 0): 2883,\n",
       " datetime.datetime(2014, 8, 1, 0, 0): 2969,\n",
       " datetime.datetime(2014, 9, 1, 0, 0): 2913,\n",
       " datetime.datetime(2014, 10, 1, 0, 0): 2864,\n",
       " datetime.datetime(2014, 11, 1, 0, 0): 2755,\n",
       " datetime.datetime(2014, 12, 1, 0, 0): 2856}"
      ]
     },
     "execution_count": 34,
     "metadata": {},
     "output_type": "execute_result"
    }
   ],
   "source": [
    "import datetime\n",
    "\n",
    "dates = [datetime.datetime(year=int(row[1]), month=int(row[2]), day=1) for row in data]\n",
    "dates[:5]\n",
    "\n",
    "month_date = {}\n",
    "for date in dates:\n",
    "    if date in month_date:\n",
    "        month_date[date] += 1\n",
    "    else:\n",
    "        month_date[date] = 0\n",
    "month_date"
   ]
  },
  {
   "cell_type": "markdown",
   "metadata": {},
   "source": [
    "### Assignment\n",
    "\n",
    "- Find the number of gun deaths by Sex\n",
    "- Find the number of gun deaths by Race\n",
    "- How does this compare to the overall population in the US?"
   ]
  },
  {
   "cell_type": "code",
   "execution_count": 37,
   "metadata": {
    "collapsed": false
   },
   "outputs": [
    {
     "data": {
      "text/plain": [
       "{'Asian/Pacific Islander': 1325,\n",
       " 'Black': 23295,\n",
       " 'Hispanic': 9021,\n",
       " 'Native American/Native Alaskan': 916,\n",
       " 'White': 66236}"
      ]
     },
     "execution_count": 37,
     "metadata": {},
     "output_type": "execute_result"
    }
   ],
   "source": [
    "total_sex = {}\n",
    "for row in data:\n",
    "    if row[5] in total_sex:\n",
    "            total_sex[row[5]] +=1\n",
    "    else:\n",
    "        total_sex[row[5]] = 0\n",
    "total_sex\n",
    "total_race = {}\n",
    "for row in data:\n",
    "    if row[7] in total_race:\n",
    "            total_race[row[7]] +=1\n",
    "    else:\n",
    "        total_race[row[7]] = 0\n",
    "total_race\n",
    "\n",
    "#Considering there are 350 million people in the US, these are pretty low?"
   ]
  },
  {
   "cell_type": "markdown",
   "metadata": {},
   "source": [
    "### Assignment\n",
    "\n",
    "- Reuse the data structure counting deaths by race\n",
    "- Use the dictionary below that has the actual population of each race\n",
    "- Compute the rates of gun deaths per race per 100,000 people\n",
    "\n",
    "mapping = {\n",
    "    \"Asian/Pacific Islander\": 15159516 + 674625,\n",
    "    \"Native American/Native Alaskan\": 3739506,\n",
    "    \"Black\": 40250635,\n",
    "    \"Hispanic\": 44618105,\n",
    "    \"White\": 197318956\n",
    "}"
   ]
  },
  {
   "cell_type": "code",
   "execution_count": 44,
   "metadata": {
    "collapsed": false
   },
   "outputs": [
    {
     "data": {
      "text/plain": [
       "{'Asian/Pacific Islander': 8.36799419684339,\n",
       " 'Black': 57.87486334066531,\n",
       " 'Hispanic': 20.2182499682584,\n",
       " 'Native American/Native Alaskan': 24.495214073730594,\n",
       " 'White': 33.567986240511026}"
      ]
     },
     "execution_count": 44,
     "metadata": {},
     "output_type": "execute_result"
    }
   ],
   "source": [
    "mapping = { \"Asian/Pacific Islander\": 15159516 + 674625, \n",
    "           \"Native American/Native Alaskan\": 3739506, \n",
    "           \"Black\": 40250635, \n",
    "           \"Hispanic\": 44618105,\n",
    "           \"White\": 197318956 }\n",
    "race_rate = {}\n",
    "\n",
    "for race,num in total_race.items():\n",
    "    race_rate[race] = num*100000/mapping[race]\n",
    "    \n",
    "race_rate\n",
    "\n"
   ]
  },
  {
   "cell_type": "markdown",
   "metadata": {},
   "source": [
    "### Assignment\n",
    "\n",
    "You may not know this, but over half of all gun deaths are suicide.\n",
    "\n",
    "- Redo the computation of rates of gun deaths per race per 100,000 people\n",
    "- This time only count those that are \"Homicide\"\n",
    "- How are these different than the previous calculation?\n"
   ]
  },
  {
   "cell_type": "code",
   "execution_count": 46,
   "metadata": {
    "collapsed": false
   },
   "outputs": [
    {
     "data": {
      "text/plain": [
       "{'Asian/Pacific Islander': 3.5303462309701548,\n",
       " 'Black': 48.47128498718095,\n",
       " 'Hispanic': 12.627161104219912,\n",
       " 'Native American/Native Alaskan': 8.717729026240365,\n",
       " 'White': 4.6356417981453335}"
      ]
     },
     "execution_count": 46,
     "metadata": {},
     "output_type": "execute_result"
    }
   ],
   "source": [
    "race_data = [row[7] for row in data]\n",
    "purpose_data = [row[3] for row in data]\n",
    "total_homicide_race = {}\n",
    "\n",
    "for row in data:\n",
    "    if row[7] in total_homicide_race:\n",
    "        if row[3] == 'Homicide':\n",
    "            total_homicide_race[row[7]] +=1\n",
    "    else:\n",
    "        total_homicide_race[row[7]] = 0\n",
    "        \n",
    "total_homicide_race  \n",
    "\n",
    "homicide_race_rate = {}\n",
    "\n",
    "for race,num in total_homicide_race.items():\n",
    "    homicide_race_rate[race] = num*100000/mapping[race]\n",
    "    \n",
    "homicide_race_rate\n",
    "#This calcualations figures out the murder rate per race. Some deaths aren't because of murder\n",
    "#like suicide."
   ]
  },
  {
   "cell_type": "code",
   "execution_count": null,
   "metadata": {
    "collapsed": true
   },
   "outputs": [],
   "source": []
  }
 ],
 "metadata": {
  "anaconda-cloud": {},
  "kernelspec": {
   "display_name": "Python [conda root]",
   "language": "python",
   "name": "conda-root-py"
  },
  "language_info": {
   "codemirror_mode": {
    "name": "ipython",
    "version": 3
   },
   "file_extension": ".py",
   "mimetype": "text/x-python",
   "name": "python",
   "nbconvert_exporter": "python",
   "pygments_lexer": "ipython3",
   "version": "3.5.2"
  }
 },
 "nbformat": 4,
 "nbformat_minor": 0
}
