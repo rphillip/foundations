{
 "cells": [
  {
   "cell_type": "markdown",
   "metadata": {
    "collapsed": true
   },
   "source": [
    "## US Birth Data Set\n",
    "\n",
    "[Original article by FiveThirtyEight about Friday the 13th](http://fivethirtyeight.com/features/some-people-are-too-superstitious-to-have-a-baby-on-friday-the-13th/)\n",
    "\n",
    "The data set contains U.S. births data for the years 1994 to 2003, as provided by the Centers for Disease Control and Prevention's National Center for Health Statistics"
   ]
  },
  {
   "cell_type": "markdown",
   "metadata": {},
   "source": [
    "### Assignment\n",
    "\n",
    "- Open the CSV and split based on new lines\n",
    "- Preview the first 10 entries"
   ]
  },
  {
   "cell_type": "code",
   "execution_count": 22,
   "metadata": {
    "collapsed": false
   },
   "outputs": [
    {
     "name": "stdout",
     "output_type": "stream",
     "text": [
      "year,month,date_of_month,day_of_week,births\n",
      "1994,1,1,6,8096\n",
      "1994,1,2,7,7772\n",
      "1994,1,3,1,10142\n",
      "1994,1,4,2,11248\n",
      "1994,1,5,3,11053\n",
      "1994,1,6,4,11406\n",
      "1994,1,7,5,11251\n",
      "1994,1,8,6,8653\n",
      "1994,1,9,7,7910\n",
      "1994,1,10,1,10498\n"
     ]
    }
   ],
   "source": [
    "#use csv reader to topen\n",
    "import csv\n",
    "with open('us_births.csv', newline='') as csvfile:\n",
    "    reader = csv.reader(csvfile, delimiter=' ', quotechar='|')\n",
    "    entry=0\n",
    "    #print first 10\n",
    "    for row in reader:\n",
    "        print(', '.join(row))\n",
    "        entry+=1\n",
    "        if entry==11:\n",
    "            break\n",
    "    "
   ]
  },
  {
   "cell_type": "markdown",
   "metadata": {},
   "source": [
    "### Assignment\n",
    "\n",
    "- Create a function that takes in a CSV and converts the data into a list of lists\n",
    "    - Each row will be a list\n",
    "    - Make sure to convert the values to int\n",
    "    - Return the final list of lists\n",
    "- Preview the first 10 entries of the output"
   ]
  },
  {
   "cell_type": "code",
   "execution_count": 20,
   "metadata": {
    "collapsed": false
   },
   "outputs": [
    {
     "data": {
      "text/plain": [
       "[[1994, 1, 1, 6, 8096],\n",
       " [1994, 1, 2, 7, 7772],\n",
       " [1994, 1, 3, 1, 10142],\n",
       " [1994, 1, 4, 2, 11248],\n",
       " [1994, 1, 5, 3, 11053],\n",
       " [1994, 1, 6, 4, 11406],\n",
       " [1994, 1, 7, 5, 11251],\n",
       " [1994, 1, 8, 6, 8653],\n",
       " [1994, 1, 9, 7, 7910],\n",
       " [1994, 1, 10, 1, 10498]]"
      ]
     },
     "execution_count": 20,
     "metadata": {},
     "output_type": "execute_result"
    }
   ],
   "source": [
    "def openCSV(csvfile):\n",
    "    reader = csv.reader(open(csvfile,newline=''), delimiter=',', quotechar='|')\n",
    "    lines=list(reader)\n",
    "    #remove header\n",
    "    lines.pop(0)\n",
    "    #convert to list of lists\n",
    "    alldata = []\n",
    "    for row in lines:\n",
    "        rowdata = []\n",
    "        for col in row:\n",
    "            rowdata.append(int(col))\n",
    "        alldata.append(rowdata)\n",
    "    return alldata\n",
    "\n",
    "    \n",
    "data = openCSV(\"us_births.csv\")\n",
    "data[:10]\n",
    "\n"
   ]
  },
  {
   "cell_type": "markdown",
   "metadata": {},
   "source": [
    "### Assignment\n",
    "\n",
    "- Create a function that calculates the number of births each month\n",
    "    - The function input should be the previous list of lists you created\n",
    "    - Use a dictionary and increment the values associated with each month key\n",
    "    - Return the final dictionary\n",
    "- Preview the output"
   ]
  },
  {
   "cell_type": "code",
   "execution_count": 23,
   "metadata": {
    "collapsed": false
   },
   "outputs": [
    {
     "data": {
      "text/plain": [
       "{1: 3232517,\n",
       " 2: 3018140,\n",
       " 3: 3322069,\n",
       " 4: 3185314,\n",
       " 5: 3350907,\n",
       " 6: 3296530,\n",
       " 7: 3498783,\n",
       " 8: 3525858,\n",
       " 9: 3439698,\n",
       " 10: 3378814,\n",
       " 11: 3171647,\n",
       " 12: 3301860}"
      ]
     },
     "execution_count": 23,
     "metadata": {},
     "output_type": "execute_result"
    }
   ],
   "source": [
    "def month_rate(data):\n",
    "    total = {}\n",
    "    #sum births by month column\n",
    "    for row in data:\n",
    "        if row[1] in total:\n",
    "            total[row[1]] = total[row[1]] + row[4]\n",
    "        else:\n",
    "            total[row[1]] = row[4]\n",
    "    return total\n",
    "month_rate(data)"
   ]
  },
  {
   "cell_type": "markdown",
   "metadata": {},
   "source": [
    "### Assignment\n",
    "\n",
    "- Create a function that calculates the number of births each day of the week"
   ]
  },
  {
   "cell_type": "code",
   "execution_count": 24,
   "metadata": {
    "collapsed": false
   },
   "outputs": [
    {
     "data": {
      "text/plain": [
       "{1: 5789166,\n",
       " 2: 6446196,\n",
       " 3: 6322855,\n",
       " 4: 6288429,\n",
       " 5: 6233657,\n",
       " 6: 4562111,\n",
       " 7: 4079723}"
      ]
     },
     "execution_count": 24,
     "metadata": {},
     "output_type": "execute_result"
    }
   ],
   "source": [
    "def day_rate(data):\n",
    "    total = {}\n",
    "    #sum births by day column\n",
    "    for row in data:\n",
    "        if row[3] in total:\n",
    "            total[row[3]] = total[row[3]] + row[4]\n",
    "        else:\n",
    "            total[row[3]] = row[4]\n",
    "    return total\n",
    "day_rate(data)"
   ]
  },
  {
   "cell_type": "markdown",
   "metadata": {},
   "source": [
    "### Assignment\n",
    "\n",
    "- Create a general function that takes the data list of lists and a column index, it should return a dictionary mapping of the unique keys and summed values"
   ]
  },
  {
   "cell_type": "code",
   "execution_count": 26,
   "metadata": {
    "collapsed": false
   },
   "outputs": [
    {
     "data": {
      "text/plain": [
       "{1: 1268462,\n",
       " 2: 1280969,\n",
       " 3: 1294360,\n",
       " 4: 1276910,\n",
       " 5: 1288905,\n",
       " 6: 1293074,\n",
       " 7: 1299215,\n",
       " 8: 1303652,\n",
       " 9: 1295391,\n",
       " 10: 1310276,\n",
       " 11: 1302666,\n",
       " 12: 1306882,\n",
       " 13: 1266485,\n",
       " 14: 1308597,\n",
       " 15: 1310526,\n",
       " 16: 1307085,\n",
       " 17: 1314403,\n",
       " 18: 1315332,\n",
       " 19: 1307489,\n",
       " 20: 1313159,\n",
       " 21: 1311107,\n",
       " 22: 1308570,\n",
       " 23: 1285003,\n",
       " 24: 1276982,\n",
       " 25: 1260160,\n",
       " 26: 1273308,\n",
       " 27: 1282720,\n",
       " 28: 1296047,\n",
       " 29: 1214202,\n",
       " 30: 1194029,\n",
       " 31: 735962}"
      ]
     },
     "execution_count": 26,
     "metadata": {},
     "output_type": "execute_result"
    }
   ],
   "source": [
    "def sum_value(data, col):\n",
    "    dictionary = {}\n",
    "    #sum births by submitted column\n",
    "    for row in data:\n",
    "        if row[col] in dictionary:\n",
    "            dictionary[row[col]] = dictionary[row[col]] + row[4]\n",
    "        else:\n",
    "            dictionary[row[col]] = row[col]\n",
    "    return dictionary\n",
    "sum_value(data,2)\n"
   ]
  },
  {
   "cell_type": "code",
   "execution_count": null,
   "metadata": {
    "collapsed": true
   },
   "outputs": [],
   "source": []
  }
 ],
 "metadata": {
  "anaconda-cloud": {},
  "kernelspec": {
   "display_name": "Python [conda root]",
   "language": "python",
   "name": "conda-root-py"
  },
  "language_info": {
   "codemirror_mode": {
    "name": "ipython",
    "version": 3
   },
   "file_extension": ".py",
   "mimetype": "text/x-python",
   "name": "python",
   "nbconvert_exporter": "python",
   "pygments_lexer": "ipython3",
   "version": "3.5.2"
  }
 },
 "nbformat": 4,
 "nbformat_minor": 1
}
